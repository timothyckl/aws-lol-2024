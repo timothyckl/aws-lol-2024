{
 "cells": [
  {
   "cell_type": "code",
   "execution_count": 5,
   "id": "4b17bc77-8c3f-4805-95f3-09faac98fcc0",
   "metadata": {},
   "outputs": [],
   "source": [
    "# convert json to jsonl\n",
    "import json \n",
    "   \n",
    "# Opening JSON file \n",
    "f = open('beginner-data.json', 'r') \n",
    "   \n",
    "# returns JSON object as  \n",
    "# a dictionary \n",
    "data = json.load(f) \n",
    "   \n",
    "# Iterating through the json \n",
    "# list \n",
    "# for i in data: \n",
    "#     print(i) \n",
    "   \n",
    "# Closing file \n",
    "f.close() "
   ]
  },
  {
   "cell_type": "code",
   "execution_count": 9,
   "id": "92a9991c-4b1a-4895-a985-30d6db778687",
   "metadata": {},
   "outputs": [],
   "source": [
    "with open('cleaned-beginner-data.jsonl', 'w') as outfile:\n",
    "    for line in data:\n",
    "        entry = {\"instruction\": line['instruction'], \"context\": \"\", \"response\": line['response']}\n",
    "        json.dump(entry, outfile)\n",
    "        outfile.write('\\n')"
   ]
  }
 ],
 "metadata": {
  "kernelspec": {
   "display_name": "Python 3 (ipykernel)",
   "language": "python",
   "name": "python3"
  },
  "language_info": {
   "codemirror_mode": {
    "name": "ipython",
    "version": 3
   },
   "file_extension": ".py",
   "mimetype": "text/x-python",
   "name": "python",
   "nbconvert_exporter": "python",
   "pygments_lexer": "ipython3",
   "version": "3.11.7"
  }
 },
 "nbformat": 4,
 "nbformat_minor": 5
}
